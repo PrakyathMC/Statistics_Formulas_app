{
 "cells": [
  {
   "cell_type": "code",
   "execution_count": 5,
   "metadata": {},
   "outputs": [],
   "source": [
    "import math\n",
    "import json"
   ]
  },
  {
   "cell_type": "code",
   "execution_count": 7,
   "metadata": {},
   "outputs": [],
   "source": [
    "formulas = [{\n",
    "  \"formula_name\": \"Standard Deviation\",\n",
    "  \"formula\": \"σ = √(Σ(x - μ)² / N)\",\n",
    "  \"explanation\": \"Measures the amount of variation or dispersion of a set of values\",\n",
    "  \"importance\": \"Crucial in understanding data spread in statistics and machine learning\",\n",
    "  \"usage\": \"Used in data preprocessing, outlier detection, and model evaluation\"\n",
    "},\n",
    "{\n",
    "  \"formula_name\": \"Variance\",\n",
    "  \"formula\": \"σ² = Σ(x - μ)² / n\",\n",
    "  \"explanation\": \"Average of squared deviations from the mean\",\n",
    "  \"importance\": \"Measures spread of data, crucial for understanding data distribution\",\n",
    "  \"usage\": \"Feature scaling, outlier detection, and in many statistical tests\"\n",
    "},\n",
    "{\n",
    "\"formula_name\": \"Correlation Coefficient\",\n",
    "\"formula\": \"r = Σ((x - μx)(y - μy)) / (nσxσy)\",\n",
    "\"explanation\": \"Measures the strength and direction of relationship between two variables\",\n",
    "\"importance\": \"Essential for understanding feature relationships in datasets\",\n",
    "\"usage\": \"Feature selection, multicollinearity detection in regression\"\n",
    "},\n",
    "{\n",
    "  \"formula_name\": \"Bayes' Theorem\",\n",
    "  \"formula\": \"P(A|B) = (P(B|A) * P(A)) / P(B)\",\n",
    "  \"explanation\": \"Calculates conditional probability based on prior knowledge\",\n",
    "  \"importance\": \"Foundational in probabilistic machine learning and AI\",\n",
    "  \"usage\": \"Naive Bayes classifiers, Bayesian networks, spam filtering\"\n",
    "},\n",
    "{\n",
    "\"formula_name\": \"Entropy\",\n",
    "\"formula\": \"H(X) = -Σ P(xi) log₂ P(xi)\",\n",
    "\"explanation\": \"Measures the average amount of information in a random variable\",\n",
    "\"importance\": \"Key concept in information theory and machine learning\",\n",
    "\"usage\": \"Decision trees, feature selection, natural language processing\"\n",
    "},\n",
    "{\n",
    "  \"formula_name\": \"Logistic Function\",\n",
    "  \"formula\": \"f(x) = 1 / (1 + e^(-x))\",\n",
    "  \"explanation\": \"S-shaped curve that maps any input to a value between 0 and 1\",\n",
    "  \"importance\": \"Core component of logistic regression and neural networks\",\n",
    "  \"usage\": \"Binary classification, multi-class classification, neural network activation\"\n",
    "},\n",
    "{\n",
    "\"formula_name\": \"Gradient Descent Update\",\n",
    "\"formula\": \"θj := θj - α * ∂J/∂θj\",\n",
    "\"explanation\": \"Iterative optimization algorithm for finding local minimum\",\n",
    "\"importance\": \"Fundamental in training many machine learning models\",\n",
    "\"usage\": \"Optimizing loss functions in neural networks, linear regression, etc.\"\n",
    "},\n",
    "{\n",
    "  \"formula_name\": \"TF-IDF\",\n",
    "  \"formula\": \"TF-IDF = TF(t,d) * log(N/DF(t))\",\n",
    "  \"explanation\": \"Measures importance of a word in a document within a collection\",\n",
    "  \"importance\": \"Key in text analysis and information retrieval\",\n",
    "  \"usage\": \"Document classification, search engines, text summarization\"\n",
    "},\n",
    "{\n",
    "  \"formula_name\": \"L2 Regularization\",\n",
    "  \"formula\": \"J(θ) + λΣθj²\",\n",
    "  \"explanation\": \"Adds penalty term to loss function based on parameter magnitude\",\n",
    "  \"importance\": \"Helps prevent overfitting in machine learning models\",\n",
    "  \"usage\": \"Ridge regression, weight decay in neural networks\"\n",
    "}]\n",
    "\n",
    "# Dump the data into a JSON file\n",
    "with open('statistics_formulas.json', 'w') as f:\n",
    "    json.dump(formulas, f, indent=2)\n",
    "\n"
   ]
  },
  {
   "cell_type": "code",
   "execution_count": 13,
   "metadata": {},
   "outputs": [
    {
     "name": "stdout",
     "output_type": "stream",
     "text": [
      "[{'formula_name': 'Standard Deviation', 'formula': 'σ = √(Σ(x - μ)² / N)', 'explanation': 'Measures the amount of variation or dispersion of a set of values', 'importance': 'Crucial in understanding data spread in statistics and machine learning', 'usage': 'Used in data preprocessing, outlier detection, and model evaluation'}, {'formula_name': 'Variance', 'formula': 'σ² = Σ(x - μ)² / n', 'explanation': 'Average of squared deviations from the mean', 'importance': 'Measures spread of data, crucial for understanding data distribution', 'usage': 'Feature scaling, outlier detection, and in many statistical tests'}, {'formula_name': 'Correlation Coefficient', 'formula': 'r = Σ((x - μx)(y - μy)) / (nσxσy)', 'explanation': 'Measures the strength and direction of relationship between two variables', 'importance': 'Essential for understanding feature relationships in datasets', 'usage': 'Feature selection, multicollinearity detection in regression'}, {'formula_name': \"Bayes' Theorem\", 'formula': 'P(A|B) = (P(B|A) * P(A)) / P(B)', 'explanation': 'Calculates conditional probability based on prior knowledge', 'importance': 'Foundational in probabilistic machine learning and AI', 'usage': 'Naive Bayes classifiers, Bayesian networks, spam filtering'}, {'formula_name': 'Entropy', 'formula': 'H(X) = -Σ P(xi) log₂ P(xi)', 'explanation': 'Measures the average amount of information in a random variable', 'importance': 'Key concept in information theory and machine learning', 'usage': 'Decision trees, feature selection, natural language processing'}, {'formula_name': 'Logistic Function', 'formula': 'f(x) = 1 / (1 + e^(-x))', 'explanation': 'S-shaped curve that maps any input to a value between 0 and 1', 'importance': 'Core component of logistic regression and neural networks', 'usage': 'Binary classification, multi-class classification, neural network activation'}, {'formula_name': 'Gradient Descent Update', 'formula': 'θj := θj - α * ∂J/∂θj', 'explanation': 'Iterative optimization algorithm for finding local minimum', 'importance': 'Fundamental in training many machine learning models', 'usage': 'Optimizing loss functions in neural networks, linear regression, etc.'}, {'formula_name': 'TF-IDF', 'formula': 'TF-IDF = TF(t,d) * log(N/DF(t))', 'explanation': 'Measures importance of a word in a document within a collection', 'importance': 'Key in text analysis and information retrieval', 'usage': 'Document classification, search engines, text summarization'}, {'formula_name': 'L2 Regularization', 'formula': 'J(θ) + λΣθj²', 'explanation': 'Adds penalty term to loss function based on parameter magnitude', 'importance': 'Helps prevent overfitting in machine learning models', 'usage': 'Ridge regression, weight decay in neural networks'}]\n"
     ]
    }
   ],
   "source": [
    "with open('statistics_formulas.json', 'r') as f:\n",
    "    loaded_formulas = json.load(f)\n",
    "\n",
    "print(loaded_formulas)"
   ]
  },
  {
   "cell_type": "code",
   "execution_count": null,
   "metadata": {},
   "outputs": [],
   "source": []
  }
 ],
 "metadata": {
  "kernelspec": {
   "display_name": "base",
   "language": "python",
   "name": "python3"
  },
  "language_info": {
   "codemirror_mode": {
    "name": "ipython",
    "version": 3
   },
   "file_extension": ".py",
   "mimetype": "text/x-python",
   "name": "python",
   "nbconvert_exporter": "python",
   "pygments_lexer": "ipython3",
   "version": "3.9.13"
  }
 },
 "nbformat": 4,
 "nbformat_minor": 2
}
